{
 "cells": [
  {
   "cell_type": "code",
   "execution_count": null,
   "metadata": {},
   "outputs": [],
   "source": [
    "# Day: 08.23\n",
    "# 592. Fraction Addition and Subtraction\n",
    "# https://leetcode.com/problems/fraction-addition-and-subtraction/description"
   ]
  },
  {
   "cell_type": "code",
   "execution_count": 56,
   "metadata": {},
   "outputs": [],
   "source": [
    "from fractions import Fraction\n",
    "import re\n",
    "\n",
    "class Solution:\n",
    "    def fractionAddition(self, expression: str) -> str:\n",
    "        \n",
    "        units = re.split(r'([-+])', '0'+expression)\n",
    "        \n",
    "        output = str(sum([Fraction(units[i]+units[i+1]) for i in range(1, len(units), 2)], Fraction(units[0])))\n",
    "\n",
    "        return output if '/' in output else output + '/1'"
   ]
  },
  {
   "cell_type": "code",
   "execution_count": null,
   "metadata": {},
   "outputs": [],
   "source": [
    "from fractions import Fraction\n",
    "import re\n",
    "\n",
    "class Solution:\n",
    "    def fractionAddition(self, expression: str) -> str:\n",
    "        \n",
    "        units = re.split(r'([-+])', expression)\n",
    "        if units[0] == '':\n",
    "            units[0] = 0\n",
    "        \n",
    "        FractionList = [Fraction(units[0])]\n",
    "        for i in range(1, len(units), 2):\n",
    "            FractionList.append(Fraction(units[i]+units[i+1]))\n",
    "        \n",
    "        output = str(sum(FractionList[1:], FractionList[0]))\n",
    "\n",
    "        if '/' not in output:\n",
    "            output = output + '/1'\n",
    "        return output"
   ]
  },
  {
   "cell_type": "code",
   "execution_count": 55,
   "metadata": {},
   "outputs": [
    {
     "data": {
      "text/plain": [
       "Fraction(1, 6)"
      ]
     },
     "execution_count": 55,
     "metadata": {},
     "output_type": "execute_result"
    }
   ],
   "source": [
    "Fraction('01/6')"
   ]
  },
  {
   "cell_type": "code",
   "execution_count": 59,
   "metadata": {},
   "outputs": [
    {
     "data": {
      "text/plain": [
       "'1/1'"
      ]
     },
     "execution_count": 59,
     "metadata": {},
     "output_type": "execute_result"
    }
   ],
   "source": [
    "sol = Solution()\n",
    "sol.fractionAddition('1/2+1/2')"
   ]
  },
  {
   "cell_type": "markdown",
   "metadata": {},
   "source": [
    "My leetcode solution: https://leetcode.com/discuss/topic/5681190/3-lines-solution-the-art-of-fraction-calculation/\n",
    "\n",
    "Hi everyone, here I provide a solution with only 3 lines in the defined function. Here I basicily use two libraries, `fractions` and `re`. `re` helps us to split the string 'expression' to units. The units are composed by the operators and the fractions. With `fractions.Fraction` we can do fraction calculation very easy and fast. \n",
    "\n",
    "\n",
    "Here are some notes.\n",
    "\n",
    "1. With the regular expression r'([-+])', the units will be like ['1/2', '+', '1/3' ...]. The fractions and the operators will alternate. \n",
    "2. Add '0' to expression to make sure the first element in units will be a number (either starts by 0, or starts by Fraction(1/2) = Fraction(01/2), for example). \n",
    "3. When using sum, we need to set a initial start value for it (here the first fraction), which is different for a common summation. `sum([...], Fraction(m/n))`\n",
    "4. I provide a more readable modification below. Thank you for your reading! \n"
   ]
  }
 ],
 "metadata": {
  "kernelspec": {
   "display_name": "CS-NLP",
   "language": "python",
   "name": "python3"
  },
  "language_info": {
   "codemirror_mode": {
    "name": "ipython",
    "version": 3
   },
   "file_extension": ".py",
   "mimetype": "text/x-python",
   "name": "python",
   "nbconvert_exporter": "python",
   "pygments_lexer": "ipython3",
   "version": "3.7.16"
  }
 },
 "nbformat": 4,
 "nbformat_minor": 2
}
