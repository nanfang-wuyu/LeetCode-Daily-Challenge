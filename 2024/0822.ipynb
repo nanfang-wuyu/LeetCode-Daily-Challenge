{
 "cells": [
  {
   "cell_type": "code",
   "execution_count": null,
   "metadata": {},
   "outputs": [],
   "source": [
    "# Day: 08.22\n",
    "# 476. Number Complement (Easy)\n",
    "# https://leetcode.com/problems/number-complement/description/"
   ]
  },
  {
   "cell_type": "code",
   "execution_count": 31,
   "metadata": {},
   "outputs": [],
   "source": [
    "class Solution:\n",
    "    def findComplement(self, num: int) -> int:\n",
    "        bitLength = num.bit_length()\n",
    "        mask = (1 << bitLength) - 1\n",
    "        \n",
    "        return num ^ mask"
   ]
  },
  {
   "cell_type": "code",
   "execution_count": 34,
   "metadata": {},
   "outputs": [
    {
     "data": {
      "text/plain": [
       "0"
      ]
     },
     "execution_count": 34,
     "metadata": {},
     "output_type": "execute_result"
    }
   ],
   "source": [
    "sol = Solution()\n",
    "sol.findComplement(7)\n"
   ]
  },
  {
   "cell_type": "code",
   "execution_count": null,
   "metadata": {},
   "outputs": [],
   "source": [
    "# other method\n",
    "# int('101', 2) --> 5, base set as 2\n",
    "# v^2**v.bit_length()-1, here '^' is calculated after \"2**v.bit_length()-1\""
   ]
  }
 ],
 "metadata": {
  "kernelspec": {
   "display_name": "CS-NLP",
   "language": "python",
   "name": "python3"
  },
  "language_info": {
   "codemirror_mode": {
    "name": "ipython",
    "version": 3
   },
   "file_extension": ".py",
   "mimetype": "text/x-python",
   "name": "python",
   "nbconvert_exporter": "python",
   "pygments_lexer": "ipython3",
   "version": "3.7.16"
  }
 },
 "nbformat": 4,
 "nbformat_minor": 2
}
