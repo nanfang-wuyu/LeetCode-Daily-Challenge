{
 "cells": [
  {
   "cell_type": "code",
   "execution_count": null,
   "metadata": {},
   "outputs": [],
   "source": [
    "# Day: 08.20\n",
    "# 1140. Stone Game II\n",
    "# https://leetcode.com/problems/stone-game-ii/description/"
   ]
  },
  {
   "cell_type": "code",
   "execution_count": 26,
   "metadata": {},
   "outputs": [],
   "source": [
    "from typing import List\n",
    "\n",
    "class Solution:\n",
    "    def stoneGameII(self, piles: List[int]) -> int:\n",
    "\n",
    "        situations = dict()\n",
    "\n",
    "        def recursion(M, subPiles):\n",
    "            if (len(subPiles), M) in situations:\n",
    "                return situations[(len(subPiles), M)]\n",
    "            if len(subPiles) < 2*M+2:\n",
    "                # print(\"sum:\", sum(subPiles))\n",
    "                situations[(len(subPiles), M)] = sum(subPiles[:2*M]), sum(subPiles[2*M:])\n",
    "                return situations[(len(subPiles), M)]\n",
    "            \n",
    "            inf = 1000000+1\n",
    "            maxp1 = -inf\n",
    "            minp2 = inf\n",
    "            maxIdx = 1\n",
    "            for i in range(1, 2*M+1):\n",
    "                # print(\"i:\", i)\n",
    "                p2, p1 = recursion(max(i, M), subPiles[i:])\n",
    "                if p2 < minp2:\n",
    "                    maxp1 = p1\n",
    "                    minp2 = p2\n",
    "                    maxIdx = i\n",
    "            \n",
    "            # print(maxIdx, maxp1, minp2)\n",
    "\n",
    "\n",
    "            situations[(len(subPiles), M)] = sum(subPiles[:maxIdx]) + maxp1, minp2\n",
    "            # print(len(subPiles), situations[(len(subPiles), M)])\n",
    "            return situations[(len(subPiles), M)]\n",
    "        \n",
    "        \n",
    "        return recursion(1, piles)[0]\n",
    "    \n",
    "\n",
    "# TLE"
   ]
  },
  {
   "cell_type": "code",
   "execution_count": 28,
   "metadata": {},
   "outputs": [
    {
     "name": "stdout",
     "output_type": "stream",
     "text": [
      "4 (103, 9)\n",
      "5 (11, 103)\n",
      "6 (104, 11)\n"
     ]
    },
    {
     "data": {
      "text/plain": [
       "104"
      ]
     },
     "execution_count": 28,
     "metadata": {},
     "output_type": "execute_result"
    }
   ],
   "source": [
    "sol = Solution()\n",
    "# sol.stoneGameII([2,7,9,4,4])\n",
    "sol.stoneGameII([1,2,3,4,5,100])\n",
    "# sol.stoneGameII([8270,7145,575,5156,5126,2905,8793,7817,5532,5726,7071,7730,5200,5369,5763,7148,8287,9449,7567,4850,1385,2135,1737,9511,8065,7063,8023,7729,7084,8407])"
   ]
  },
  {
   "cell_type": "markdown",
   "metadata": {},
   "source": [
    "It takes some time to understand this problem. Then we can find it can be solved by DP or recursion. It's kind of game theory inside. \n",
    "\n",
    "There are two players p1 and p2, we can use a loop to find all the situations when p1 choose piles from 1 to 2*M, and then recursively find out how will p2 and p1 got in the subquestion using subpiles (a new game which Bob plays first with subpiles). Using min-max game theory, we can choose the best choice for p1 by choosing situation that the minimum scores p2 got.\n",
    "\n",
    "\n",
    "The first submission got an TLE. Then I found that there are actually many same situations are calculated for replicated times. So I optimize this by storing the results for each situation in a dictionary with the tuple key (length of the subpiles, the number M). Since we treat the subpiles as a new game, there is no difference if player 1 or player 2 starts first. Then the results can be reused. "
   ]
  }
 ],
 "metadata": {
  "kernelspec": {
   "display_name": "CS-NLP",
   "language": "python",
   "name": "python3"
  },
  "language_info": {
   "codemirror_mode": {
    "name": "ipython",
    "version": 3
   },
   "file_extension": ".py",
   "mimetype": "text/x-python",
   "name": "python",
   "nbconvert_exporter": "python",
   "pygments_lexer": "ipython3",
   "version": "3.7.16"
  }
 },
 "nbformat": 4,
 "nbformat_minor": 2
}
