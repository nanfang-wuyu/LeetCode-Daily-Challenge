{
 "cells": [
  {
   "cell_type": "code",
   "execution_count": null,
   "metadata": {},
   "outputs": [],
   "source": [
    "# Day: 08.16\n",
    "# No.624 Maximum Distance in Arrays\n",
    "# https://leetcode.com/problems/maximum-distance-in-arrays/description/"
   ]
  },
  {
   "cell_type": "code",
   "execution_count": 8,
   "metadata": {},
   "outputs": [],
   "source": [
    "from typing import List\n",
    "class Solution:\n",
    "    def maxDistance(self, arrays: List[List[int]]) -> int:\n",
    "\n",
    "        min_list = [arr[0] for arr in arrays]\n",
    "        max_list = [arr[-1] for arr in arrays]\n",
    "        distances = []\n",
    "        for i in range(len(arrays)):\n",
    "            min_num = min_list[i]\n",
    "            max_num = max(max_list[:i] + max_list[i+1:])\n",
    "            distances.append(abs(min_num - max_num))\n",
    "\n",
    "        return max(distances)\n",
    "\n",
    "# TLE  \n",
    "        "
   ]
  },
  {
   "cell_type": "code",
   "execution_count": 11,
   "metadata": {},
   "outputs": [
    {
     "data": {
      "text/plain": [
       "6"
      ]
     },
     "execution_count": 11,
     "metadata": {},
     "output_type": "execute_result"
    }
   ],
   "source": [
    "sol = Solution()\n",
    "sol.maxDistance([[1,2,3],[-1,4,5],[-1,1,2,3]])"
   ]
  },
  {
   "cell_type": "code",
   "execution_count": 12,
   "metadata": {},
   "outputs": [],
   "source": [
    "from typing import List\n",
    "class Solution:\n",
    "    def maxDistance(self, arrays: List[List[int]]) -> int:\n",
    "\n",
    "        min_list = [arr[0] for arr in arrays]\n",
    "        max_list = [arr[-1] for arr in arrays]\n",
    "        min_num = min(min_list)\n",
    "        max_num = max(max_list)\n",
    "        min_idx = min_list.index(min_num)\n",
    "        max_idx = max_list.index(max_num)\n",
    "        if min_idx != max_idx:\n",
    "            return max_num - min_num\n",
    "        else:\n",
    "            return max(max(max_list[:max_idx]+max_list[max_idx+1:]) - min_num,\n",
    "                       max_num - min(min_list[:min_idx]+min_list[min_idx+1:]))\n",
    "\n",
    "# AC\n",
    "        "
   ]
  },
  {
   "cell_type": "code",
   "execution_count": 13,
   "metadata": {},
   "outputs": [
    {
     "data": {
      "text/plain": [
       "2"
      ]
     },
     "execution_count": 13,
     "metadata": {},
     "output_type": "execute_result"
    }
   ],
   "source": [
    "sol = Solution()\n",
    "sol.maxDistance([[1,2],[1,3]])"
   ]
  },
  {
   "cell_type": "markdown",
   "metadata": {},
   "source": [
    "Some thoughts:\n",
    "\n",
    "Obivously, we can pick up the smallest and biggest number among all arrays, then their absolute difference must be the longest distance. However, the two numbers can't be in the same array.\n",
    "\n",
    "To solve this, I first let each minimum number compare to maximum numbers other than the array which it belongs to, then there wouldn't be a pair in the same array. Sadly, this solution got a TLE. \n",
    "\n",
    "Then I thought carefully, we can just see if the minimum and maximum are in the same array. If not, the absolute difference is the solution. If so, we can just compare each of them with the second maximum and minimum respectively, as the number of arrays 'm >= 2'. (There will be no exception when two or more minimums in some arrays have same value, it will be one of the two situations above. ) "
   ]
  }
 ],
 "metadata": {
  "kernelspec": {
   "display_name": "CS-NLP",
   "language": "python",
   "name": "python3"
  },
  "language_info": {
   "codemirror_mode": {
    "name": "ipython",
    "version": 3
   },
   "file_extension": ".py",
   "mimetype": "text/x-python",
   "name": "python",
   "nbconvert_exporter": "python",
   "pygments_lexer": "ipython3",
   "version": "3.7.16"
  }
 },
 "nbformat": 4,
 "nbformat_minor": 2
}
