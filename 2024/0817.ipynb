{
 "cells": [
  {
   "cell_type": "code",
   "execution_count": null,
   "metadata": {},
   "outputs": [],
   "source": [
    "# Day: 08.17\n",
    "# No.1937 Maximum Number of Points with Cost\n",
    "# https://leetcode.com/problems/maximum-number-of-points-with-cost/description"
   ]
  },
  {
   "cell_type": "code",
   "execution_count": 33,
   "metadata": {},
   "outputs": [],
   "source": [
    "from typing import List\n",
    "import numpy as np\n",
    "\n",
    "class Solution:\n",
    "    def maxPoints(self, points: List[List[int]]) -> int:\n",
    "        \n",
    "        scores = np.zeros_like(points)\n",
    "        scores[0] = points[0]\n",
    "        for i, row in enumerate(points):\n",
    "            if i == 0: continue \n",
    "            for j, cell in enumerate(row):\n",
    "                scores[i][j] = max([cell + scores[i-1][k] - abs(k-j) for k in range(len(row))])\n",
    "        return max(scores[-1])\n",
    "\n",
    "# TLE"
   ]
  },
  {
   "cell_type": "code",
   "execution_count": 83,
   "metadata": {},
   "outputs": [
    {
     "name": "stdout",
     "output_type": "stream",
     "text": [
      "9\n",
      "11\n"
     ]
    }
   ],
   "source": [
    "sol = Solution()\n",
    "# print(sol.maxPoints([[1],[2],[3]]))\n",
    "# print(sol.maxPoints([[1,2,3]]))\n",
    "print(sol.maxPoints([[1,2,3],[1,5,1],[3,1,1]]))\n",
    "print(sol.maxPoints([[1,5],[2,3],[4,2]]))"
   ]
  },
  {
   "cell_type": "code",
   "execution_count": 49,
   "metadata": {},
   "outputs": [],
   "source": [
    "from typing import List\n",
    "import numpy as np\n",
    "\n",
    "class Solution:\n",
    "    def maxPoints(self, points: List[List[int]]) -> int:\n",
    "        \n",
    "        scores = np.zeros_like(points)\n",
    "        scores[0] = points[0]\n",
    "        for i, row in enumerate(points):\n",
    "            if i == 0: continue \n",
    "\n",
    "            first_scores = np.array([scores[i-1][k] - k for k in range(len(row))])\n",
    "            \n",
    "            for j, cell in enumerate(row):\n",
    "                scores[i][j] = cell + max(first_scores)\n",
    "                first_scores[:j+1] -= 1\n",
    "                first_scores[j+1:] += 1\n",
    "        return max(scores[-1])\n",
    "\n",
    "# TLE"
   ]
  },
  {
   "cell_type": "code",
   "execution_count": 66,
   "metadata": {},
   "outputs": [],
   "source": [
    "from typing import List\n",
    "import numpy as np\n",
    "\n",
    "class Solution:\n",
    "    def maxPoints(self, points: List[List[int]]) -> int:\n",
    "        points = np.array(points)\n",
    "        \n",
    "        scores = np.zeros_like(points)\n",
    "        scores[0] = points[0]\n",
    "        for i, row in enumerate(points):\n",
    "            if i == 0: continue \n",
    "\n",
    "            scores_with_dist = np.array([scores[i-1][k] - k for k in range(len(row))])\n",
    "            print(scores_with_dist)\n",
    "            j = 0\n",
    "            maximum_idx = -1\n",
    "            while (j < len(row)):\n",
    "                maximum_score = max(scores_with_dist)\n",
    "                new_maximum_idx = np.where(scores_with_dist == maximum_score)[0][-1]\n",
    "                if new_maximum_idx > maximum_idx:\n",
    "                    maximum_idx = new_maximum_idx \n",
    "                    scores[i][j:maximum_idx+1] = row[j:maximum_idx+1] + maximum_score\n",
    "                    scores_with_dist[:maximum_idx+1] -= maximum_idx + 1 - j\n",
    "                    scores_with_dist[maximum_idx+1:] += maximum_idx + 1 - j\n",
    "                    j = maximum_idx + 1\n",
    "                else:\n",
    "                    \n",
    "                    scores[i][j] = row[j] + maximum_score\n",
    "                    j = j + 1\n",
    "                    scores_with_dist[:j] -= 1\n",
    "                    scores_with_dist[j:] += 1\n",
    "                \n",
    "                print(i, j, scores_with_dist)\n",
    "\n",
    "        return max(scores[-1])"
   ]
  },
  {
   "cell_type": "code",
   "execution_count": 82,
   "metadata": {},
   "outputs": [],
   "source": [
    "from typing import List\n",
    "import numpy as np\n",
    "\n",
    "class Solution:\n",
    "    def maxPoints(self, points: List[List[int]]) -> int:\n",
    "        \n",
    "        scores = np.zeros_like(points)\n",
    "        scores[0] = points[0]\n",
    "        for i, row in enumerate(points):\n",
    "            leftMax, rightMax = np.zeros_like(row), np.zeros_like(row)\n",
    "            if i == 0: continue \n",
    "\n",
    "            leftMax[0] = scores[i-1][0]\n",
    "            for j in range(1, len(row)):\n",
    "                leftMax[j] = max(leftMax[j-1] - 1, scores[i-1][j])\n",
    "\n",
    "            rightMax[-1] = scores[i-1][-1]\n",
    "            for j in range(len(row)-2, -1, -1):\n",
    "                rightMax[j] = max(rightMax[j+1] - 1, scores[i-1][j])\n",
    "\n",
    "            scores[i] = np.array([max(leftMax[k], rightMax[k]) + row[k] for k in range(len(row))])\n",
    "            # print(leftMax, rightMax, scores[i])\n",
    "        return max(scores[-1])\n",
    "\n",
    "# AC, but slow"
   ]
  },
  {
   "cell_type": "markdown",
   "metadata": {},
   "source": [
    "Initially, I only find out that the right maximum keeps to be maximum until the cell in current row reaches it. I ignore that the left maximum is the same. So actually, there are only three possible values to be compared for one cell, left maximum, right maximum and the cell above it (in the previous row). lm and rm will -1 from left to right and right to left respectively. When updating left maximum or right maximum, we need to compare it with the cell exactly above, so leftMax and rightMax actually contain the cell above, we can just use max(leftMax, rightMax) for current cell. \n",
    "\n",
    "This method is accepted, but too slow.\n",
    "\n",
    "\n"
   ]
  }
 ],
 "metadata": {
  "kernelspec": {
   "display_name": "CS-NLP",
   "language": "python",
   "name": "python3"
  },
  "language_info": {
   "codemirror_mode": {
    "name": "ipython",
    "version": 3
   },
   "file_extension": ".py",
   "mimetype": "text/x-python",
   "name": "python",
   "nbconvert_exporter": "python",
   "pygments_lexer": "ipython3",
   "version": "3.7.16"
  }
 },
 "nbformat": 4,
 "nbformat_minor": 2
}
