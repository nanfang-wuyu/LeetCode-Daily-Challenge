{
 "cells": [
  {
   "cell_type": "code",
   "execution_count": null,
   "metadata": {},
   "outputs": [],
   "source": [
    "# Day: 08.19\n",
    "# 650. 2 Keys Keyboard\n",
    "# https://leetcode.com/problems/2-keys-keyboard/description"
   ]
  },
  {
   "cell_type": "code",
   "execution_count": 30,
   "metadata": {},
   "outputs": [],
   "source": [
    "import math\n",
    "\n",
    "class Solution:\n",
    "    def minSteps(self, n: int) -> int:\n",
    "\n",
    "        def findPrimeFactors(n):\n",
    "            factors = []\n",
    "            while n % 2 == 0:\n",
    "                factors.append(2)\n",
    "                n = n // 2\n",
    "\n",
    "            for i in range(3, math.floor(math.pow(n, 1/2)) + 1, 2):\n",
    "                while n % i == 0:\n",
    "                    factors.append(i)\n",
    "                    n = n // i\n",
    "            if n > 1:\n",
    "                factors.append(n)\n",
    "            return factors\n",
    "        return sum(findPrimeFactors(n))"
   ]
  },
  {
   "cell_type": "code",
   "execution_count": 31,
   "metadata": {},
   "outputs": [
    {
     "data": {
      "text/plain": [
       "6"
      ]
     },
     "execution_count": 31,
     "metadata": {},
     "output_type": "execute_result"
    }
   ],
   "source": [
    "sol = Solution()\n",
    "sol.minSteps(9)"
   ]
  },
  {
   "cell_type": "markdown",
   "metadata": {},
   "source": [
    "Let's take a look at two examples. \n",
    "\n",
    "For n = 35 = 5*7 , \n",
    "- 1ca + 4p = 5A, 1ca + 6p = 35A --> 12op\n",
    "- or 1ca + 6p = 7A, 1ca + 4p = 35A --> 12op, the same\n",
    "\n",
    "For n = 36 = 2 * 2 * 3 * 3\n",
    "- get 3A with 3op, then 9A with 3op, then 36A with 4op (ca+3p or cap+cap) --> 10op\n",
    "- get 2A with 2op, then 4A with 2op, then 12A with 3op and 36A with 3op --> 10op, the same\n",
    "\n",
    "Notice that in fact every group of operations are actually the prime factors of the given n, (5, 7) or (2,2,3,3) ... And they are always the optimal choices of operations (try to consider the idea of merging). \n",
    "\n",
    "So, now the problem becomes:\n",
    "How to do the prime factorization?\n",
    "\n",
    "Notice that the prime factor must support p <= n^(1/2) for n which is not a prime, we can loop to find out all the prime factors. And since primes other than 2 are odd, we can use a step 2 in loop. Remember to judge if n is bigger than 1 after the prime factorization, which means n itself is a prime. "
   ]
  }
 ],
 "metadata": {
  "kernelspec": {
   "display_name": "CS-NLP",
   "language": "python",
   "name": "python3"
  },
  "language_info": {
   "codemirror_mode": {
    "name": "ipython",
    "version": 3
   },
   "file_extension": ".py",
   "mimetype": "text/x-python",
   "name": "python",
   "nbconvert_exporter": "python",
   "pygments_lexer": "ipython3",
   "version": "3.7.16"
  }
 },
 "nbformat": 4,
 "nbformat_minor": 2
}
