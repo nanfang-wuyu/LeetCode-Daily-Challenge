{
 "cells": [
  {
   "cell_type": "code",
   "execution_count": 2,
   "metadata": {},
   "outputs": [],
   "source": [
    "# Day: 08.18\n",
    "# 264. Ugly Number II\n",
    "# https://leetcode.com/problems/ugly-number-ii/description"
   ]
  },
  {
   "cell_type": "code",
   "execution_count": 34,
   "metadata": {},
   "outputs": [],
   "source": [
    "from typing import List\n",
    "\n",
    "class Solution:\n",
    "    def nthUglyNumber(self, n: int) -> int:\n",
    "\n",
    "        uglySet = [1]\n",
    "        primes = [2,3,5]\n",
    "        num = 2\n",
    "        while len(uglySet) < n:\n",
    "            for prime in primes:\n",
    "                if num % prime == 0: \n",
    "                    if num // prime in uglySet:\n",
    "                        uglySet.append(num)\n",
    "                        break\n",
    "            num += 1\n",
    "        print(uglySet)\n",
    "        return uglySet[-1]\n",
    "    \n",
    "# TLE"
   ]
  },
  {
   "cell_type": "code",
   "execution_count": 49,
   "metadata": {},
   "outputs": [
    {
     "name": "stdout",
     "output_type": "stream",
     "text": [
      "{40, 12, 45, 15, 16, 18, 50, 20, 24, 25, 27, 30}\n"
     ]
    },
    {
     "data": {
      "text/plain": [
       "12"
      ]
     },
     "execution_count": 49,
     "metadata": {},
     "output_type": "execute_result"
    }
   ],
   "source": [
    "sol  = Solution()\n",
    "sol.nthUglyNumber(10)"
   ]
  },
  {
   "cell_type": "code",
   "execution_count": 47,
   "metadata": {},
   "outputs": [],
   "source": [
    "from typing import List\n",
    "\n",
    "class Solution:\n",
    "    def nthUglyNumber(self, n: int) -> int:\n",
    "\n",
    "        uglySet = {1}\n",
    "        primes = [2,3,5]\n",
    "        i = 1\n",
    "        while (i < n):\n",
    "            uglyMini = min(uglySet)\n",
    "            uglySet.remove(uglyMini)\n",
    "            for prime in primes:\n",
    "                uglySet.add(uglyMini * prime)\n",
    "            i += 1\n",
    "        # print(uglySet)\n",
    "        return min(uglySet)\n",
    "    \n",
    "# AC "
   ]
  },
  {
   "cell_type": "markdown",
   "metadata": {},
   "source": [
    "Method 1: Done \n",
    "Method 2: \n",
    "Method 3: "
   ]
  }
 ],
 "metadata": {
  "kernelspec": {
   "display_name": "CS-NLP",
   "language": "python",
   "name": "python3"
  },
  "language_info": {
   "codemirror_mode": {
    "name": "ipython",
    "version": 3
   },
   "file_extension": ".py",
   "mimetype": "text/x-python",
   "name": "python",
   "nbconvert_exporter": "python",
   "pygments_lexer": "ipython3",
   "version": "3.7.16"
  }
 },
 "nbformat": 4,
 "nbformat_minor": 2
}
